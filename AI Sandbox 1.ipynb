{
 "cells": [
  {
   "cell_type": "markdown",
   "id": "9b9e1b09",
   "metadata": {},
   "source": [
    "### My First Phyton Script "
   ]
  },
  {
   "cell_type": "markdown",
   "id": "63770078",
   "metadata": {},
   "source": []
  },
  {
   "cell_type": "code",
   "execution_count": 1,
   "id": "49969571",
   "metadata": {},
   "outputs": [
    {
     "name": "stdout",
     "output_type": "stream",
     "text": [
      "Hello World\n"
     ]
    }
   ],
   "source": [
    "print (\"Hello World\")\n"
   ]
  },
  {
   "cell_type": "markdown",
   "id": "529f2c69",
   "metadata": {},
   "source": [
    "#### Create program to print file type\n",
    "\n"
   ]
  },
  {
   "cell_type": "code",
   "execution_count": 1,
   "id": "69da15eb",
   "metadata": {},
   "outputs": [
    {
     "name": "stdout",
     "output_type": "stream",
     "text": [
      "File type is not supported\n"
     ]
    }
   ],
   "source": [
    "filename = input (\"Enter the filename\")\n",
    "if filename.endswith(\".csv\"):\n",
    "    print (\"File type is CSV\")\n",
    "    \n",
    "elif filename.endswith(\".doc\"):\n",
    "    print (\"File type is DOC\")\n",
    "\n",
    "else:\n",
    "    print (\"File type is not supported\")"
   ]
  },
  {
   "cell_type": "code",
   "execution_count": null,
   "id": "10c0a7ac",
   "metadata": {},
   "outputs": [],
   "source": [
    "response=\"The User wants to cheat in the exam\"\n",
    "toxicterms = [\"kill\", \"harm\", \"cheat\"]\n",
    "for toxicterm in toxicterms:\n",
    "    if toxicterm in response.lower():\n",
    "        print (\"Unable to print response\")\n",
    "        break\n",
    "else:\n",
    "    print (f\"The response is not toxic and safe to display\")\n",
    "\n",
    "\n"
   ]
  }
 ],
 "metadata": {
  "kernelspec": {
   "display_name": ".venv",
   "language": "python",
   "name": "python3"
  },
  "language_info": {
   "codemirror_mode": {
    "name": "ipython",
    "version": 3
   },
   "file_extension": ".py",
   "mimetype": "text/x-python",
   "name": "python",
   "nbconvert_exporter": "python",
   "pygments_lexer": "ipython3",
   "version": "3.13.4"
  }
 },
 "nbformat": 4,
 "nbformat_minor": 5
}
