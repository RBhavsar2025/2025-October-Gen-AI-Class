{
 "cells": [
  {
   "cell_type": "markdown",
   "id": "4517e94b",
   "metadata": {},
   "source": [
    "### Create a program to print non toxic text"
   ]
  },
  {
   "cell_type": "code",
   "execution_count": null,
   "id": "9d3eca6d",
   "metadata": {},
   "outputs": [
    {
     "name": "stdout",
     "output_type": "stream",
     "text": [
      "Unable to print response\n"
     ]
    }
   ],
   "source": [
    "response=\"The User wants to cheat in the exam\"\n",
    "toxicterms = [\"kill\", \"harm\", \"cheat\"]\n",
    "for toxicterm in toxicterms:\n",
    "    if toxicterm in response.lower():\n",
    "        print (\"Unable to print response it is toxic\")\n",
    "        break\n",
    "else:\n",
    "    print (f\"The response is not toxic and safe to display\")"
   ]
  }
 ],
 "metadata": {
  "kernelspec": {
   "display_name": ".venv",
   "language": "python",
   "name": "python3"
  },
  "language_info": {
   "codemirror_mode": {
    "name": "ipython",
    "version": 3
   },
   "file_extension": ".py",
   "mimetype": "text/x-python",
   "name": "python",
   "nbconvert_exporter": "python",
   "pygments_lexer": "ipython3",
   "version": "3.13.4"
  }
 },
 "nbformat": 4,
 "nbformat_minor": 5
}
