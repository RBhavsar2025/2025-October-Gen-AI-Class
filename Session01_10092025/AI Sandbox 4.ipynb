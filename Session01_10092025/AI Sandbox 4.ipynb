{
 "cells": [
  {
   "cell_type": "markdown",
   "id": "e1e224a3",
   "metadata": {},
   "source": [
    "## Create Hellp world"
   ]
  },
  {
   "cell_type": "code",
   "execution_count": null,
   "id": "973ea502",
   "metadata": {},
   "outputs": [],
   "source": [
    "print (\"Hello World\")"
   ]
  }
 ],
 "metadata": {
  "language_info": {
   "name": "python"
  }
 },
 "nbformat": 4,
 "nbformat_minor": 5
}
