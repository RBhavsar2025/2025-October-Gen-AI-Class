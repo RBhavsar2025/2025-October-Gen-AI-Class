{
 "cells": [
  {
   "cell_type": "markdown",
   "id": "fe62000a",
   "metadata": {},
   "source": [
    "### Create a program to display file type\n"
   ]
  },
  {
   "cell_type": "code",
   "execution_count": 1,
   "id": "b77175b2",
   "metadata": {},
   "outputs": [
    {
     "name": "stdout",
     "output_type": "stream",
     "text": [
      "File type is not supported\n"
     ]
    }
   ],
   "source": [
    "filename = input (\"Enter the filename\")\n",
    "if filename.endswith(\".csv\"):\n",
    "    print (\"File type is CSV\")\n",
    "    \n",
    "elif filename.endswith(\".doc\"):\n",
    "    print (\"File type is DOC\")\n",
    "\n",
    "else:\n",
    "    print (\"File type is not supported\")"
   ]
  }
 ],
 "metadata": {
  "kernelspec": {
   "display_name": ".venv",
   "language": "python",
   "name": "python3"
  },
  "language_info": {
   "codemirror_mode": {
    "name": "ipython",
    "version": 3
   },
   "file_extension": ".py",
   "mimetype": "text/x-python",
   "name": "python",
   "nbconvert_exporter": "python",
   "pygments_lexer": "ipython3",
   "version": "3.13.4"
  }
 },
 "nbformat": 4,
 "nbformat_minor": 5
}
